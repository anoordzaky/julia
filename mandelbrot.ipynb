{
  "nbformat": 4,
  "nbformat_minor": 0,
  "metadata": {
    "colab": {
      "provenance": [],
      "gpuType": "T4"
    },
    "kernelspec": {
      "name": "python3",
      "display_name": "Python 3"
    },
    "language_info": {
      "name": "python"
    },
    "accelerator": "GPU"
  },
  "cells": [
    {
      "cell_type": "code",
      "execution_count": null,
      "metadata": {
        "id": "gM3Y2bKH8Woa"
      },
      "outputs": [],
      "source": [
        "import numpy as np\n",
        "from tqdm import tqdm\n",
        "from glob import glob\n",
        "from jax import jit, lax\n",
        "import jax.numpy as jnp\n",
        "import cv2\n",
        "import os\n",
        "\n",
        "from PIL import Image, ImageDraw, ImageFont\n",
        "import matplotlib.font_manager as fm\n",
        "path = fm.findfont(fm.FontProperties(family='cmr10'))\n"
      ]
    },
    {
      "cell_type": "code",
      "source": [
        "def mandelbrot(z, max_iter, c):\n",
        "    def cond_fun(val):\n",
        "        z, i = val\n",
        "        return (jnp.abs(z) < 2) & (i < max_iter)\n",
        "\n",
        "    def body_fun(val):\n",
        "        z, i = val\n",
        "        z = z**2 + c\n",
        "        return z, i + 1\n",
        "\n",
        "    z_final, iter_count = lax.while_loop(cond_fun, body_fun, (z, 0))\n",
        "    return iter_count/max_iter\n",
        "\n",
        "\n",
        "colorize = jnp.vectorize(lambda x: 255*x)"
      ],
      "metadata": {
        "id": "e-h8p3ZY8Xi8"
      },
      "execution_count": null,
      "outputs": []
    },
    {
      "cell_type": "code",
      "source": [
        "def create_complex_grid(width, height, x_min=-2, x_max=2, y_min=-1, y_max=1):\n",
        "    \"\"\"\n",
        "    Create a 2D grid of complex numbers.\n",
        "\n",
        "    Args:\n",
        "    width, height: Screen resolution\n",
        "    x_min, x_max, y_min, y_max: The range of the complex plane to map to the screen\n",
        "\n",
        "    Returns:\n",
        "    A 2D JAX array of complex numbers\n",
        "    \"\"\"\n",
        "    x = jnp.linspace(x_min, x_max, width)\n",
        "    y = jnp.linspace(y_max, y_min, height)  # Reversed to match screen coordinates\n",
        "    xx, yy = jnp.meshgrid(x, y)\n",
        "    return xx + 1j * yy\n",
        "\n",
        "# Example usage:\n",
        "screen_width, screen_height = 1920, 1080\n",
        "complex_grid = create_complex_grid(screen_width, screen_height)\n",
        "\n",
        "# Now you can use this with jax.vmap to compute the Mandelbrot set\n",
        "from jax import vmap\n",
        "\n",
        "def compute_mandelbrot(grid, max_iter, c=None):\n",
        "    \"\"\"\n",
        "    Compute the Mandelbrot set for a given grid of complex numbers.\n",
        "\n",
        "    Args:\n",
        "    grid: A 2D JAX array of complex numbers\n",
        "    max_iter: The maximum number of iterations\n",
        "    c: The constant to use in the Julia set\n",
        "\n",
        "    Returns:\n",
        "    A 2D JAX array of integers representing the number of iterations\n",
        "    \"\"\"\n",
        "\n",
        "    if c is None:\n",
        "        # Original Mandelbrot set: c is the input value\n",
        "        mandelbrot_vmap = vmap(vmap(lambda z: mandelbrot(0j, max_iter, z)))\n",
        "        return mandelbrot_vmap(grid)\n",
        "    else:\n",
        "        # Julia set: z is the input value, c is constant\n",
        "        mandelbrot_vmap = vmap(vmap(lambda z: mandelbrot(z, max_iter, c)))\n",
        "        return mandelbrot_vmap(grid)\n",
        "\n",
        "colorize = jnp.vectorize(lambda x: 255*x)\n",
        "\n",
        "result = compute_mandelbrot(complex_grid, 100, c=complex(-0.76,0.19))"
      ],
      "metadata": {
        "id": "Ec-zw1J48fCy"
      },
      "execution_count": null,
      "outputs": []
    },
    {
      "cell_type": "code",
      "source": [
        "def create_custom_linspace(var, duration):\n",
        "  \"\"\"\n",
        "  Creates a Linear Space between two values given a duration\n",
        "\n",
        "  Args:\n",
        "  var: A 2D list consisting of two values in each row, corresponding to its x & y\n",
        "  duration: How many values are needed in the linear space shown as an integer\n",
        "  \"\"\"\n",
        "\n",
        "  length_each = int(duration/(len(var)-1))\n",
        "\n",
        "  real = jnp.linspace(var[0][0], var[1][0], length_each)\n",
        "  imag = jnp.linspace(var[0][1], var[1][1], length_each)\n",
        "\n",
        "  for i in range(len(var)-1):\n",
        "\n",
        "    if i + 2 >= len(var):\n",
        "      continue\n",
        "\n",
        "    curr_real = jnp.linspace(var[i+1][0], var[i+2][0], length_each)\n",
        "    curr_imag = jnp.linspace(var[i+1][1], var[i+2][1], length_each)\n",
        "\n",
        "    real = jnp.concatenate((real, curr_real))\n",
        "    imag = jnp.concatenate((imag, curr_imag))\n",
        "  return jnp.vstack((real, imag)).T\n"
      ],
      "metadata": {
        "id": "OSxyQAW7KFyw"
      },
      "execution_count": null,
      "outputs": []
    },
    {
      "cell_type": "code",
      "source": [
        "duration = 30\n",
        "fps = 60\n",
        "\n",
        "var = [\n",
        "    [.72,.31],\n",
        "    [.26,.74],\n",
        "    [-.32, .72],\n",
        "    [-.68, .4],\n",
        "    [-.73, -.29],\n",
        "    [-.79, -.03],\n",
        "    [0.36,-0.36],\n",
        "    [-.16, -.77],\n",
        "    [.72,.31],\n",
        "    ]\n",
        "constants = create_custom_linspace(var, duration*fps)"
      ],
      "metadata": {
        "id": "yug0sTI78noo"
      },
      "execution_count": null,
      "outputs": []
    },
    {
      "cell_type": "markdown",
      "source": [
        "# **Main Rendering Functionality**"
      ],
      "metadata": {
        "id": "Mi66qKRjToCN"
      }
    },
    {
      "cell_type": "code",
      "source": [
        "\n",
        "\n",
        "colorize = jnp.vectorize(lambda x: 255*x)\n",
        "iter = 50\n",
        "i = 0\n",
        "screen_width, screen_height = 1920, 1080\n",
        "\n",
        "complex_grid = create_complex_grid(screen_width, screen_height)\n",
        "font_size = 60\n",
        "font = ImageFont.truetype(path, font_size)\n",
        "for c in tqdm(constants):\n",
        "  result = compute_mandelbrot(complex_grid, iter, complex(c[0], c[1]))\n",
        "\n",
        "  image = np.array(colorize(result)).astype(np.uint8)\n",
        "\n",
        "  # Convert to a 3-channel image if it's not already\n",
        "  if len(image.shape) == 2:\n",
        "      image = cv2.cvtColor(image, cv2.COLOR_GRAY2BGR)\n",
        "\n",
        "  pil_image = Image.fromarray(cv2.cvtColor(image, cv2.COLOR_BGR2RGB))\n",
        "\n",
        "  # Create the caption text\n",
        "  caption = f\"c = {c[0]:.2f} + {c[1]:.2f}i\"\n",
        "\n",
        "  # Add the caption to the image\n",
        "  draw = ImageDraw.Draw(pil_image)\n",
        "\n",
        "  # Create the caption text\n",
        "  caption = f\"c = {c[0]:.2f} + {c[1]:.2f}i\"\n",
        "\n",
        "  # Add the caption to the image\n",
        "  position = (10, 10)  # Top-left position\n",
        "  draw.text(position, caption, font=font, fill=(255, 255, 255))\n",
        "\n",
        "  image = cv2.cvtColor(np.array(pil_image), cv2.COLOR_RGB2BGR)\n",
        "\n",
        "  # Save the image\n",
        "  cv2.imwrite(f\"/content/Output/Mandelbrot_frame_{i}.png\", image)\n",
        "  i+=1"
      ],
      "metadata": {
        "colab": {
          "base_uri": "https://localhost:8080/"
        },
        "id": "B29QB05P8mcl",
        "outputId": "dc942896-9260-4b38-ab2e-6d8e2fda9432"
      },
      "execution_count": null,
      "outputs": [
        {
          "output_type": "stream",
          "name": "stderr",
          "text": [
            "100%|██████████| 1800/1800 [08:22<00:00,  3.58it/s]\n"
          ]
        }
      ]
    },
    {
      "cell_type": "code",
      "source": [
        "path = \"/content/Output/*.png\"\n",
        "\n",
        "images = glob(path)\n",
        "\n",
        "\n",
        "series_image = {int(os.path.split(images[i])[1].split(\"_\")[-1].split(\".\")[0]):images[i] for i in range(len(images))}\n",
        "sorted_series = sorted(series_image.keys())"
      ],
      "metadata": {
        "id": "VRiusz6B85iy"
      },
      "execution_count": null,
      "outputs": []
    },
    {
      "cell_type": "code",
      "source": [
        "vid_name =\"/content/drive/MyDrive/Colab_projects/mandelbrot.mp4\"\n",
        "writer = cv2.VideoWriter(vid_name, cv2.VideoWriter_fourcc(*'mp4v'), fps, (screen_width,screen_height))\n",
        "for idx in tqdm(sorted_series):\n",
        "    writer.write(cv2.imread(series_image[idx]))\n",
        "cv2.destroyAllWindows()\n",
        "writer.release()"
      ],
      "metadata": {
        "colab": {
          "base_uri": "https://localhost:8080/"
        },
        "id": "cRE7SWYn93SR",
        "outputId": "a9a2a231-6a8d-4767-ad73-595c8bbd1cf0"
      },
      "execution_count": null,
      "outputs": [
        {
          "output_type": "stream",
          "name": "stderr",
          "text": [
            "100%|██████████| 1800/1800 [01:03<00:00, 28.47it/s]\n"
          ]
        }
      ]
    },
    {
      "cell_type": "code",
      "source": [],
      "metadata": {
        "id": "8ZwOpDa694_i"
      },
      "execution_count": null,
      "outputs": []
    }
  ]
}
